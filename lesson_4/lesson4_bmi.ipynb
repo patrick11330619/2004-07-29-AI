{
 "cells": [
  {
   "cell_type": "code",
   "execution_count": 3,
   "metadata": {},
   "outputs": [
    {
     "name": "stdout",
     "output_type": "stream",
     "text": [
      "格式錯誤\n"
     ]
    }
   ],
   "source": [
    "import math\n",
    "try:\n",
    "   name=str(input('請輸入姓名'))\n",
    "   high=float(input('請輸入身高(cm)'))\n",
    "   highb=high/100\n",
    "   weight=float(input('請輸入體重(kg)'))\n",
    "except ValueError:\n",
    "    print(\"格式錯誤\")\n",
    "else:\n",
    "    BMI=round(weight/(highb**(2)),ndigits=2)\n",
    "    print(f'{name}你好:')\n",
    "    print(f'您的BMI值是:{BMI}')\n",
    "    if BMI<18.5:\n",
    "        print('體重:過輕')\n",
    "    elif BMI<24:\n",
    "        print('體重:正常')\n",
    "    elif BMI<27:\n",
    "        print('體重:過重')\n",
    "    elif BMI<30:\n",
    "        print('體重:輕度肥胖')\n",
    "    elif BMI<35:\n",
    "        print('體重:中度肥胖')\n",
    "    else:\n",
    "        print('體重:重度肥胖')"
   ]
  }
 ],
 "metadata": {
  "kernelspec": {
   "display_name": "Python 3",
   "language": "python",
   "name": "python3"
  },
  "language_info": {
   "codemirror_mode": {
    "name": "ipython",
    "version": 3
   },
   "file_extension": ".py",
   "mimetype": "text/x-python",
   "name": "python",
   "nbconvert_exporter": "python",
   "pygments_lexer": "ipython3",
   "version": "3.11.9"
  }
 },
 "nbformat": 4,
 "nbformat_minor": 2
}
