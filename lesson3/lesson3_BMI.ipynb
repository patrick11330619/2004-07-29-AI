{
 "cells": [
  {
   "cell_type": "code",
   "execution_count": 9,
   "metadata": {},
   "outputs": [],
   "source": [
    "name=str(input('請輸入姓名'))\n",
    "high=float(input('請輸入身高(cm)'))\n",
    "highb=high/100\n",
    "weight=float(input('請輸入體重(kg)'))\n",
    "BMI=round(weight/(highb**(2)),ndigits=2)\n",
    "print(f'{name}你好:')\n",
    "print(f'您的BMI值是:{BMI}')\n",
    "\n"
   ]
  }
 ],
 "metadata": {
  "kernelspec": {
   "display_name": "Python 3",
   "language": "python",
   "name": "python3"
  },
  "language_info": {
   "codemirror_mode": {
    "name": "ipython",
    "version": 3
   },
   "file_extension": ".py",
   "mimetype": "text/x-python",
   "name": "python",
   "nbconvert_exporter": "python",
   "pygments_lexer": "ipython3",
   "version": "3.11.9"
  }
 },
 "nbformat": 4,
 "nbformat_minor": 2
}
