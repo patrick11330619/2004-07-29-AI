{
 "cells": [
  {
   "cell_type": "code",
   "execution_count": 5,
   "metadata": {},
   "outputs": [
    {
     "name": "stdout",
     "output_type": "stream",
     "text": [
      "2658395746,4659375667的公因數是:\n",
      "1 "
     ]
    }
   ],
   "source": [
    "value1 = int(input(\"請輸入第1個數值:\"))\n",
    "value2 = int(input(\"請輸入第2個數值:\"))\n",
    "\n",
    "(max,min) = (value1,value2) if value1 > value2 else (value2,value1)\n",
    "print(f'{value1},{value2}的公因數是:')\n",
    "for n in range(1,min+1):\n",
    "    if max % n == 0 and min % n ==  0:\n",
    "        print(n,end=' ')"
   ]
  },
  {
   "cell_type": "code",
   "execution_count": 6,
   "metadata": {},
   "outputs": [
    {
     "name": "stdout",
     "output_type": "stream",
     "text": [
      "Slime\n",
      "應用程式結束!\n"
     ]
    }
   ],
   "source": [
    "#請輸入小寫的英文字串,將英文字第1個字變大寫\n",
    "#請輸入小寫英文字[按q會離開]:\n",
    "#taiwan輸出Taiwan\n",
    "\n",
    "stuff = input(\"請輸入小寫英文字[按q會離開]:\")\n",
    "#print(type(stuff))\n",
    "while not stuff == 'q':\n",
    "    print(stuff.capitalize())\n",
    "    stuff = input(\"請輸入小寫英文字[按q會離開]:\")\n",
    "print(\"應用程式結束!\")"
   ]
  },
  {
   "cell_type": "code",
   "execution_count": null,
   "metadata": {},
   "outputs": [],
   "source": [
    "#請輸入小寫的英文字串,將英文字第1個字變大寫\n",
    "#請輸入小寫英文字[按q會離開]:\n",
    "#taiwan輸出Taiwan\n",
    "\n",
    "\n",
    "#print(type(stuff))\n",
    "while True:\n",
    "    stuff = input(\"請輸入小寫英文字[按q會離開]:\")\n",
    "    if stuff == 'q':\n",
    "        break\n",
    "    print(stuff.capitalize())\n",
    "    \n",
    "print(\"應用程式結束!\")\n"
   ]
  }
 ],
 "metadata": {
  "kernelspec": {
   "display_name": "Python 3",
   "language": "python",
   "name": "python3"
  },
  "language_info": {
   "codemirror_mode": {
    "name": "ipython",
    "version": 3
   },
   "file_extension": ".py",
   "mimetype": "text/x-python",
   "name": "python",
   "nbconvert_exporter": "python",
   "pygments_lexer": "ipython3",
   "version": "3.11.9"
  }
 },
 "nbformat": 4,
 "nbformat_minor": 2
}
